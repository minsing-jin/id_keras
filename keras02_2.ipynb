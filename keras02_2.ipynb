{
 "cells": [
  {
   "cell_type": "code",
   "execution_count": 3,
   "id": "a349094b",
   "metadata": {},
   "outputs": [
    {
     "name": "stdout",
     "output_type": "stream",
     "text": [
      "10/10 [==============================] - 0s 2ms/step - loss: 257.5398\n",
      "10/10 [==============================] - 0s 640us/step - loss: 20629.2070\n",
      "loss:  20629.20703125\n",
      "results:  [[-29.547152]\n",
      " [-29.813425]\n",
      " [-30.0797  ]]\n"
     ]
    }
   ],
   "source": [
    "import numpy as np\n",
    "import tensorflow as tf\n",
    "from tensorflow.keras.models import Sequential\n",
    "from tensorflow.keras.layers import Dense\n",
    "\n",
    "#1 데이터 , weight 2 bias 2나 0 -> x와 y 관계를 1차함수로 해서 weight나 bias를 알아냄\n",
    "x_train = np.array([1,2,3,4,5,6,7,8,9,10])\n",
    "y_train = np.array([2,4,6,8,10,12,14,16,18,20])\n",
    "#  x와 y값의 갯수는 같아야함. \n",
    "# weight는 1, bias는 10\n",
    "x_test = np.array([101,102,103,104,105,106,107,108,109,110])\n",
    "y_test = np.array([111,112,113,114,115,116,117,118,119,120])\n",
    "\n",
    "# 여기서의 weight는? bias는?? -. 머신은 반복훈련을 통해서 유추\n",
    "x_predict = np.array([111,112,113])\n",
    "\n",
    "#2. 모델구성\n",
    "model = Sequential()\n",
    "model.add(Dense(1, input_dim=1))  #hidden을 안넣음 input과 output을 한개만 넣음\n",
    "# dense가 많아질수록 layer가 늘어나는것이고 dense의 파라미터가 늘어날수록 노드의 개수가 많아지는 것임!!\n",
    "\n",
    "#딥하지 않은 딥러닝임 ㅋㅋㅋ\n",
    "\n",
    "#3. 컴파일, 훈련\n",
    "model.compile(loss='mse', optimizer='adam')\n",
    "model.fit(x_train, y_train, epochs=1, batch_size=1)\n",
    "\n",
    "#4. 평가, 예측\n",
    "loss = model.evaluate(x_test, y_test, batch_size=1)\n",
    "print('loss: ', loss)\n",
    "\n",
    "results = model.predict(x_predict)\n",
    "print('results: ', results)\n",
    "\n",
    "# 과제3 잘만들것!! test에 수렴되는지 train에 수렴되는지\n",
    "# 결과값이 222 223 224가 나왔다 이런식으로 단톡방에서 토론할것\n",
    "# 하이퍼 파라미터 튜닝으로 수정\n",
    "# 결과치에 대해서 설명할것\n",
    "# 히든 레이어 하이퍼 파라미터 튜닝할것, 레이어 추가하고 한개안에 레이어추가 딥하지 않은 딥러닝은 딥하지 않음\n",
    "# Dense의 파라미터를 늘리는 것은 layer와 노드개수 두개다 늘리는 것임!\n",
    "# 최적의 하이퍼 파라미터 튜닝을 하기 위해서는 감이 필요함."
   ]
  }
 ],
 "metadata": {
  "kernelspec": {
   "display_name": "Python 3",
   "language": "python",
   "name": "python3"
  },
  "language_info": {
   "codemirror_mode": {
    "name": "ipython",
    "version": 3
   },
   "file_extension": ".py",
   "mimetype": "text/x-python",
   "name": "python",
   "nbconvert_exporter": "python",
   "pygments_lexer": "ipython3",
   "version": "3.8.8"
  }
 },
 "nbformat": 4,
 "nbformat_minor": 5
}
